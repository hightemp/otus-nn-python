{
 "cells": [
  {
   "cell_type": "code",
   "execution_count": 16,
   "metadata": {},
   "outputs": [],
   "source": [
    "import torch\n",
    "import torch.nn as nn\n",
    "import torch.nn.functional as F\n",
    "import torch.optim as optim\n",
    "\n",
    "import numpy as np\n",
    "import scipy.stats as stats\n",
    "from scipy.stats import multivariate_normal\n",
    "import matplotlib.pyplot as plt\n",
    "from mpl_toolkits.mplot3d import Axes3D\n",
    "\n",
    "%matplotlib inline"
   ]
  },
  {
   "cell_type": "code",
   "execution_count": 17,
   "metadata": {},
   "outputs": [],
   "source": [
    "mux0, muy0, sigmax0, sigmay0 = -3., 2., 1., 2.\n",
    "mux1, muy1, sigmax1, sigmay1 = 3., 2., 3., 2.\n",
    "mu0 = [mux0, muy0]\n",
    "mu1 = [mux1, muy1]\n",
    "cov0 = [[sigmax0, 0],[0, sigmay0]];\n",
    "cov1 = [[sigmax1, 0],[0, sigmay1]];"
   ]
  },
  {
   "cell_type": "code",
   "execution_count": 18,
   "metadata": {},
   "outputs": [],
   "source": [
    "def sample(d0, d1, n=32):\n",
    "    x0 = d0.sample((n,))\n",
    "    x1 = d1.sample((n,))\n",
    "    y0 = torch.zeros((n, 1))\n",
    "    y1 = torch.ones((n, 1))\n",
    "    return torch.cat([x0, x1], 0), torch.cat([y0, y1], 0)"
   ]
  },
  {
   "cell_type": "code",
   "execution_count": 19,
   "metadata": {},
   "outputs": [],
   "source": [
    "d0 = torch.distributions.MultivariateNormal(\n",
    "    torch.tensor(mu0),\n",
    "    torch.tensor(cov0)\n",
    ")\n",
    "d1 = torch.distributions.MultivariateNormal(\n",
    "    torch.tensor(mu1),\n",
    "    torch.tensor(cov1)\n",
    ")"
   ]
  },
  {
   "cell_type": "code",
   "execution_count": 20,
   "metadata": {},
   "outputs": [
    {
     "name": "stdout",
     "output_type": "stream",
     "text": [
      "[tensor([ 0.3560, -0.3490]), tensor(0.0745)]\n"
     ]
    }
   ],
   "source": [
    "layer = nn.Linear(2, 1)\n",
    "print([p.data[0] for p in layer.parameters()])\n",
    "layer_opt = optim.SGD(lr=1e-3, params=list(layer.parameters()))"
   ]
  },
  {
   "cell_type": "code",
   "execution_count": 21,
   "metadata": {},
   "outputs": [
    {
     "name": "stdout",
     "output_type": "stream",
     "text": [
      "Ошибка после 0 итераций: 0.379524\n",
      "Ошибка после 1 итераций: 0.214767\n",
      "Ошибка после 2 итераций: 0.159995\n",
      "Ошибка после 3 итераций: 0.134945\n",
      "Ошибка после 4 итераций: 0.117974\n",
      "Ошибка после 5 итераций: 0.107614\n",
      "Ошибка после 6 итераций: 0.099114\n",
      "Ошибка после 7 итераций: 0.093136\n",
      "Ошибка после 8 итераций: 0.088704\n",
      "Ошибка после 9 итераций: 0.084474\n",
      "Ошибка после 10 итераций: 0.081196\n",
      "Ошибка после 11 итераций: 0.078537\n",
      "Ошибка после 12 итераций: 0.076477\n",
      "Ошибка после 13 итераций: 0.073589\n",
      "Ошибка после 14 итераций: 0.071909\n",
      "Ошибка после 15 итераций: 0.070033\n",
      "Ошибка после 16 итераций: 0.068992\n",
      "Ошибка после 17 итераций: 0.067398\n",
      "Ошибка после 18 итераций: 0.066078\n",
      "Ошибка после 19 итераций: 0.065012\n"
     ]
    }
   ],
   "source": [
    "log_freq = 500\n",
    "for i in range(10000):\n",
    "    if i%log_freq == 0:\n",
    "        with torch.no_grad():\n",
    "            x, y = sample(d0, d1, 100000)\n",
    "            out = torch.sigmoid(layer(x))\n",
    "            loss = F.binary_cross_entropy(out, y)\n",
    "        print('Ошибка после %d итераций: %f' %(i/log_freq, loss))\n",
    "    layer_opt.zero_grad()\n",
    "    x, y = sample(d0, d1, 1024)\n",
    "    out = torch.sigmoid(layer(x))\n",
    "    loss = F.binary_cross_entropy(out, y)\n",
    "    loss.backward()\n",
    "    layer_opt.step()"
   ]
  },
  {
   "cell_type": "code",
   "execution_count": 22,
   "metadata": {},
   "outputs": [
    {
     "ename": "NameError",
     "evalue": "name 'multivariate_normal' is not defined",
     "output_type": "error",
     "traceback": [
      "\u001b[0;31m---------------------------------------------------------------------------\u001b[0m",
      "\u001b[0;31mNameError\u001b[0m                                 Traceback (most recent call last)",
      "\u001b[0;32m<ipython-input-22-9d040957fb11>\u001b[0m in \u001b[0;36m<module>\u001b[0;34m()\u001b[0m\n\u001b[1;32m      6\u001b[0m \u001b[0mpos\u001b[0m\u001b[0;34m[\u001b[0m\u001b[0;34m:\u001b[0m\u001b[0;34m,\u001b[0m \u001b[0;34m:\u001b[0m\u001b[0;34m,\u001b[0m \u001b[0;36m0\u001b[0m\u001b[0;34m]\u001b[0m \u001b[0;34m=\u001b[0m \u001b[0mX\u001b[0m\u001b[0;34m;\u001b[0m \u001b[0mpos\u001b[0m\u001b[0;34m[\u001b[0m\u001b[0;34m:\u001b[0m\u001b[0;34m,\u001b[0m \u001b[0;34m:\u001b[0m\u001b[0;34m,\u001b[0m \u001b[0;36m1\u001b[0m\u001b[0;34m]\u001b[0m \u001b[0;34m=\u001b[0m \u001b[0mY\u001b[0m\u001b[0;34m\u001b[0m\u001b[0;34m\u001b[0m\u001b[0m\n\u001b[1;32m      7\u001b[0m \u001b[0;34m\u001b[0m\u001b[0m\n\u001b[0;32m----> 8\u001b[0;31m \u001b[0mrv0\u001b[0m \u001b[0;34m=\u001b[0m \u001b[0mmultivariate_normal\u001b[0m\u001b[0;34m(\u001b[0m\u001b[0mmu0\u001b[0m\u001b[0;34m,\u001b[0m \u001b[0mcov0\u001b[0m\u001b[0;34m)\u001b[0m\u001b[0;34m\u001b[0m\u001b[0;34m\u001b[0m\u001b[0m\n\u001b[0m\u001b[1;32m      9\u001b[0m \u001b[0mrv1\u001b[0m \u001b[0;34m=\u001b[0m \u001b[0mmultivariate_normal\u001b[0m\u001b[0;34m(\u001b[0m\u001b[0mmu1\u001b[0m\u001b[0;34m,\u001b[0m \u001b[0mcov1\u001b[0m\u001b[0;34m)\u001b[0m\u001b[0;34m\u001b[0m\u001b[0;34m\u001b[0m\u001b[0m\n\u001b[1;32m     10\u001b[0m \u001b[0;34m\u001b[0m\u001b[0m\n",
      "\u001b[0;31mNameError\u001b[0m: name 'multivariate_normal' is not defined"
     ]
    }
   ],
   "source": [
    "x = np.linspace(-10,10,100)\n",
    "y = np.linspace(-10,10,100)\n",
    "X, Y = np.meshgrid(x,y)\n",
    "\n",
    "pos = np.empty(X.shape + (2,))\n",
    "pos[:, :, 0] = X; pos[:, :, 1] = Y\n",
    "\n",
    "rv0 = multivariate_normal(mu0, cov0)\n",
    "rv1 = multivariate_normal(mu1, cov1)\n",
    "\n",
    "pos_tensor = torch.tensor(pos.reshape(-1, 2), dtype=torch.float)\n",
    "with torch.no_grad():\n",
    "    dist = torch.sigmoid(layer_mult(pos_tensor)).numpy().reshape(-1, 100)"
   ]
  },
  {
   "cell_type": "code",
   "execution_count": 11,
   "metadata": {},
   "outputs": [
    {
     "data": {
      "image/png": "[encoded data removed]",
      "text/plain": [
       "<Figure size 432x288 with 1 Axes>"
      ]
     },
     "metadata": {
      "needs_background": "light"
     },
     "output_type": "display_data"
    }
   ],
   "source": [
    "plt.rcParams['figure.figsize'] = [10, 10]\n",
    "fig1 = plt.figure()\n",
    "ax1 = fig1.gca(projection='3d')\n",
    "ax1.plot_wireframe(X, Y, rv0.pdf(pos), rstride=2, cstride=2)\n",
    "ax1.plot_wireframe(X, Y, rv1.pdf(pos), rstride=2, cstride=2)\n",
    "ax1.set_xlabel('X axis')\n",
    "ax1.set_ylabel('Y axis')\n",
    "ax1.set_zlabel('PDF')\n",
    "plt.show()"
   ]
  },
  {
   "cell_type": "code",
   "execution_count": 12,
   "metadata": {},
   "outputs": [
    {
     "name": "stdout",
     "output_type": "stream",
     "text": [
      "[tensor([1.5842]), tensor(0.3297)]\n"
     ]
    }
   ],
   "source": [
    "print([p.data[0] for p in layer.parameters()])"
   ]
  },
  {
   "cell_type": "code",
   "execution_count": 13,
   "metadata": {},
   "outputs": [
    {
     "data": {
      "text/plain": [
       "tensor(-inf)"
      ]
     },
     "execution_count": 13,
     "metadata": {},
     "output_type": "execute_result"
    }
   ],
   "source": [
    "torch.log(torch.sigmoid(torch.tensor(-100.)))"
   ]
  },
  {
   "cell_type": "code",
   "execution_count": 14,
   "metadata": {},
   "outputs": [
    {
     "data": {
      "text/plain": [
       "tensor(-100.)"
      ]
     },
     "execution_count": 14,
     "metadata": {},
     "output_type": "execute_result"
    }
   ],
   "source": [
    "F.logsigmoid(torch.tensor(-100.))"
   ]
  },
  {
   "cell_type": "code",
   "execution_count": null,
   "metadata": {},
   "outputs": [],
   "source": []
  }
 ],
 "metadata": {
  "kernelspec": {
   "display_name": "Python 3",
   "language": "python",
   "name": "python3"
  },
  "language_info": {
   "codemirror_mode": {
    "name": "ipython",
    "version": 3
   },
   "file_extension": ".py",
   "mimetype": "text/x-python",
   "name": "python",
   "nbconvert_exporter": "python",
   "pygments_lexer": "ipython3",
   "version": "3.7.3"
  }
 },
 "nbformat": 4,
 "nbformat_minor": 2
}
